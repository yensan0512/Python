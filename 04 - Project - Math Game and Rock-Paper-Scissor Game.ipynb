{
 "cells": [
  {
   "cell_type": "markdown",
   "id": "d9e746cf",
   "metadata": {},
   "source": [
    "# Project - Math Game and Rock-Paper-Scissor Game\n",
    "### Goal\n",
    "- Create a Math Game\n",
    "- Create a [Rock-Paper-Scissors Game](https://en.wikipedia.org/wiki/Rock_paper_scissors)"
   ]
  },
  {
   "cell_type": "markdown",
   "id": "dfd9310d",
   "metadata": {},
   "source": [
    "### Math Game\n",
    "- First, import random\n",
    "- Get a random inteteger from the range 1 to 10 (both inclusive)\n",
    "- Get another random inteteger from the range 1 to 10 (both inclusive)\n",
    "- Prompt the user for what the two integers multiplied is\n",
    "- Print if correct or not. If not corrrect, print the correct answer."
   ]
  },
  {
   "cell_type": "code",
   "execution_count": 1,
   "id": "25ad0935",
   "metadata": {},
   "outputs": [],
   "source": [
    "import random"
   ]
  },
  {
   "cell_type": "code",
   "execution_count": 9,
   "id": "5a2b449c",
   "metadata": {},
   "outputs": [
    {
     "name": "stdout",
     "output_type": "stream",
     "text": [
      "What is 3 times 9?27\n",
      "Correct 3 times 9 is 27\n"
     ]
    }
   ],
   "source": [
    "a = random.randint(1,10)\n",
    "b = random.randint(1,10)\n",
    "answer = input(f\"What is {a} times {b}?\")\n",
    "answer = int(answer)\n",
    "if answer == a*b:\n",
    "    print(f\"Correct {a} times {b} is {answer}\")\n",
    "else:\n",
    "    print(f\"Incorrect {a} times {b} is {a*b}\")"
   ]
  },
  {
   "cell_type": "markdown",
   "id": "3ecc12ea",
   "metadata": {},
   "source": [
    "### Rock, Paper, Scissors Game\n",
    "\n",
    "![Rock Paper Scissor](img/RockPaperScissors.png \"Rock-Paper-Scissor\")"
   ]
  },
  {
   "cell_type": "code",
   "execution_count": 19,
   "id": "f8b74306",
   "metadata": {},
   "outputs": [
    {
     "name": "stdout",
     "output_type": "stream",
     "text": [
      "Enter choice：1：Rock, 2: Paper, 3: Scissor\n",
      "Choice (1/2/3):1\n",
      "Computer choice: 3\n",
      "You win\n"
     ]
    }
   ],
   "source": [
    "print(\"Enter choice：1：Rock, 2: Paper, 3: Scissor\")\n",
    "choice = input(\"Choice (1/2/3):\")\n",
    "choice = int(choice)\n",
    "\n",
    "computer_choice = random.randint(1,3)\n",
    "print(f\"Computer choice: {computer_choice}\")\n",
    "\n",
    "if choice == computer_choice:\n",
    "    print(\"Draw\")\n",
    "elif choice == 1:\n",
    "    if computer_choice == 2:\n",
    "        print(\"Computer wins\")\n",
    "    else:\n",
    "        print(\"You win\")\n",
    "elif choice == 2:\n",
    "    if computer_choice == 3:\n",
    "        print(\"Computer wins\")\n",
    "    else:\n",
    "        print(\"You win\")\n",
    "elif choice == 3:\n",
    "    if computer_choice == 1:\n",
    "        print(\"Computer wins\")\n",
    "    else:\n",
    "        print(\"You win\")"
   ]
  },
  {
   "cell_type": "code",
   "execution_count": null,
   "id": "c0df934a",
   "metadata": {},
   "outputs": [],
   "source": []
  }
 ],
 "metadata": {
  "kernelspec": {
   "display_name": "Python 3 (ipykernel)",
   "language": "python",
   "name": "python3"
  },
  "language_info": {
   "codemirror_mode": {
    "name": "ipython",
    "version": 3
   },
   "file_extension": ".py",
   "mimetype": "text/x-python",
   "name": "python",
   "nbconvert_exporter": "python",
   "pygments_lexer": "ipython3",
   "version": "3.9.13"
  }
 },
 "nbformat": 4,
 "nbformat_minor": 5
}
