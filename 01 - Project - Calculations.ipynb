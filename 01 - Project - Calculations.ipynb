{
 "cells": [
  {
   "cell_type": "markdown",
   "id": "eb5d68b7",
   "metadata": {},
   "source": [
    "# Project - Calculations\n",
    "## Goal\n",
    "- Using Jupyter Notebook as a Calculator\n",
    "- Understand how cells keeps track of calcualtions"
   ]
  },
  {
   "cell_type": "markdown",
   "id": "4ef2a7cf",
   "metadata": {},
   "source": [
    "### Description\n",
    "- Create formulas\n",
    "- Have some fun with basic math"
   ]
  },
  {
   "cell_type": "markdown",
   "id": "1d2ed6cc",
   "metadata": {},
   "source": [
    "### Step 1\n",
    "- Make a convertion from **kg** to **lbs**\n",
    "- Use this formula: $lbs = kg \\times 2.2046$\n",
    "- Make the cell to use variables"
   ]
  },
  {
   "cell_type": "code",
   "execution_count": 2,
   "id": "138f5d76",
   "metadata": {},
   "outputs": [
    {
     "name": "stdout",
     "output_type": "stream",
     "text": [
      "2.2046\n"
     ]
    }
   ],
   "source": [
    "kg = 1\n",
    "lbs = kg * 2.2046\n",
    "print(lbs)"
   ]
  },
  {
   "cell_type": "markdown",
   "id": "e32126b3",
   "metadata": {},
   "source": [
    "### Step 2\n",
    "- Make calculation of circumference of a circle\n",
    "- The cell should define the radius\n",
    "- Calculate the circumference by the formula: $c = 2 \\times \\pi \\times r$\n",
    "- Define $\\pi = 3.14$ (use variable name **pi**)\n",
    "- Let the cell return the circumference"
   ]
  },
  {
   "cell_type": "code",
   "execution_count": 6,
   "id": "d04920c0",
   "metadata": {},
   "outputs": [
    {
     "name": "stdout",
     "output_type": "stream",
     "text": [
      "13.188\n"
     ]
    }
   ],
   "source": [
    "pi = 3.14\n",
    "r = 2.1\n",
    "c = 2 * pi * r\n",
    "print(c)"
   ]
  },
  {
   "cell_type": "markdown",
   "id": "cf22108c",
   "metadata": {},
   "source": [
    "### Step 3\n",
    "1. Assign a variable to a any number (integer).\n",
    "2. Multiply the number by 3.\n",
    "3. Add 6 to the result from bullet 2.\n",
    "4. Divide this number by 3.\n",
    "5. Subtract the number from bullet 1 from the answer in bullet 4.\n",
    "6. The answer is 2."
   ]
  },
  {
   "cell_type": "code",
   "execution_count": 8,
   "id": "7dc5e923",
   "metadata": {},
   "outputs": [
    {
     "data": {
      "text/plain": [
       "2.0"
      ]
     },
     "execution_count": 8,
     "metadata": {},
     "output_type": "execute_result"
    }
   ],
   "source": [
    "number = 23\n",
    "number = number * 3\n",
    "number = number + 6\n",
    "number = number / 3\n",
    "number = number - 23\n",
    "number"
   ]
  },
  {
   "cell_type": "code",
   "execution_count": null,
   "id": "9cdc10d7",
   "metadata": {},
   "outputs": [],
   "source": []
  }
 ],
 "metadata": {
  "kernelspec": {
   "display_name": "Python 3 (ipykernel)",
   "language": "python",
   "name": "python3"
  },
  "language_info": {
   "codemirror_mode": {
    "name": "ipython",
    "version": 3
   },
   "file_extension": ".py",
   "mimetype": "text/x-python",
   "name": "python",
   "nbconvert_exporter": "python",
   "pygments_lexer": "ipython3",
   "version": "3.9.13"
  }
 },
 "nbformat": 4,
 "nbformat_minor": 5
}
