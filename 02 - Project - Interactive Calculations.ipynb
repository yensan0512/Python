{
 "cells": [
  {
   "cell_type": "markdown",
   "id": "0d793508",
   "metadata": {},
   "source": [
    "# Project - Interactive Calculations\n",
    "### Goal\n",
    "- Multiply two numbers\n",
    "- Days since you were born\n",
    "- Tip calculator"
   ]
  },
  {
   "cell_type": "markdown",
   "id": "88ee054a",
   "metadata": {},
   "source": [
    "### Step 1\n",
    "- Input a value from the user and keep it in variable **a**.\n",
    "- Input another value from the user and keep it in variable **b**.\n",
    "- Print the product of the two values (**a*b**)."
   ]
  },
  {
   "cell_type": "code",
   "execution_count": 10,
   "id": "229ffd0e",
   "metadata": {},
   "outputs": [
    {
     "name": "stdout",
     "output_type": "stream",
     "text": [
      "Input a: 2\n",
      "Input b: 3\n",
      "a*b is 6\n"
     ]
    }
   ],
   "source": [
    "a = input(\"Input a: \")\n",
    "a = int(a)\n",
    "b = input(\"Input b: \")\n",
    "b = int(b)\n",
    "print(f\"a*b is {a*b}\")"
   ]
  },
  {
   "cell_type": "markdown",
   "id": "f84fd03b",
   "metadata": {},
   "source": [
    "### Step 2\n",
    "- Input how many years the user it.\n",
    "- Convert the years to an integer.\n",
    "- Calculate how many days, hours, minutes, and seconds since the user is born."
   ]
  },
  {
   "cell_type": "code",
   "execution_count": 11,
   "id": "c9f61930",
   "metadata": {},
   "outputs": [
    {
     "name": "stdout",
     "output_type": "stream",
     "text": [
      "How many years are you? 27\n",
      "You are 9855 days old\n",
      "You are 236520 hours old\n",
      "You are 14191200 minutes old\n",
      "You are 851472000 seconds old\n"
     ]
    }
   ],
   "source": [
    "year = input(\"How many years are you? \")\n",
    "year = int(year)\n",
    "print(f\"You are {year*365} days old\")\n",
    "print(f\"You are {year*365*24} hours old\")\n",
    "print(f\"You are {year*365*24*60} minutes old\")\n",
    "print(f\"You are {year*365*24*60*60} seconds old\")"
   ]
  },
  {
   "cell_type": "markdown",
   "id": "9553e3bd",
   "metadata": {},
   "source": [
    "### Step 3\n",
    "- Here we will make a tip calculator.\n",
    "- Input the price.\n",
    "- Convert the price to an integer.\n",
    "- Input the percentage the user wants to tip.\n",
    "- Convert the percentage to an integer.\n",
    "- Calculate the tip by the following formula: **tip = price $\\times$ percentage_tip / 100**.\n",
    "- Round the tip to two digits.\n",
    "- Print the the tip.\n",
    "- *BONUS:* Adjust the code to take float input of percentage tip"
   ]
  },
  {
   "cell_type": "code",
   "execution_count": 14,
   "id": "36cedfcb",
   "metadata": {},
   "outputs": [
    {
     "name": "stdout",
     "output_type": "stream",
     "text": [
      "Input price: 100\n",
      "How much do you want to tip (%)? 10.3\n",
      "Tip 10.3\n"
     ]
    }
   ],
   "source": [
    "price = input(\"Input price: \")\n",
    "price = int(price)\n",
    "percentage_tip = input(\"How much do you want to tip (%)? \")\n",
    "percentage_tip = float(percentage_tip)\n",
    "tip = price *percentage_tip /100\n",
    "tip = round(tip,2)\n",
    "print(f\"Tip {tip}\")"
   ]
  },
  {
   "cell_type": "code",
   "execution_count": null,
   "id": "c89b4b73",
   "metadata": {},
   "outputs": [],
   "source": []
  }
 ],
 "metadata": {
  "kernelspec": {
   "display_name": "Python 3 (ipykernel)",
   "language": "python",
   "name": "python3"
  },
  "language_info": {
   "codemirror_mode": {
    "name": "ipython",
    "version": 3
   },
   "file_extension": ".py",
   "mimetype": "text/x-python",
   "name": "python",
   "nbconvert_exporter": "python",
   "pygments_lexer": "ipython3",
   "version": "3.9.13"
  }
 },
 "nbformat": 4,
 "nbformat_minor": 5
}
