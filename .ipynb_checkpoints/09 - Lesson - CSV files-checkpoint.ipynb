{
 "cells": [
  {
   "cell_type": "markdown",
   "id": "a59ad86d",
   "metadata": {},
   "source": [
    "# CSV Files\n",
    "### Goal\n",
    "- Learn to read and process CSV files"
   ]
  },
  {
   "cell_type": "code",
   "execution_count": 1,
   "id": "db5c92ba",
   "metadata": {},
   "outputs": [],
   "source": [
    "import csv"
   ]
  },
  {
   "cell_type": "code",
   "execution_count": 2,
   "id": "e525ef16",
   "metadata": {},
   "outputs": [],
   "source": [
    "with open(\"files/NameRecords.csv\",\"r\") as f:\n",
    "    csv_reader = csv.DictReader(f)\n",
    "    name_records = list(csv_reader)"
   ]
  },
  {
   "cell_type": "code",
   "execution_count": 3,
   "id": "9d250c9c",
   "metadata": {},
   "outputs": [
    {
     "data": {
      "text/plain": [
       "[{'First name': 'Connar', 'Last name': 'Ward', 'Age': '15'},\n",
       " {'First name': 'Rose', 'Last name': 'Peterson', 'Age': '18'},\n",
       " {'First name': 'Paul', 'Last name': 'Cox', 'Age': '12'},\n",
       " {'First name': 'Hanna', 'Last name': 'Hicks', 'Age': '10'}]"
      ]
     },
     "execution_count": 3,
     "metadata": {},
     "output_type": "execute_result"
    }
   ],
   "source": [
    "name_records"
   ]
  },
  {
   "cell_type": "code",
   "execution_count": 4,
   "id": "298ea646",
   "metadata": {},
   "outputs": [
    {
     "data": {
      "text/plain": [
       "{'First name': 'Connar', 'Last name': 'Ward', 'Age': '15'}"
      ]
     },
     "execution_count": 4,
     "metadata": {},
     "output_type": "execute_result"
    }
   ],
   "source": [
    "name_records[0]"
   ]
  },
  {
   "cell_type": "code",
   "execution_count": 5,
   "id": "202b2a57",
   "metadata": {},
   "outputs": [
    {
     "data": {
      "text/plain": [
       "'Connar'"
      ]
     },
     "execution_count": 5,
     "metadata": {},
     "output_type": "execute_result"
    }
   ],
   "source": [
    "name_records[0]['First name']"
   ]
  },
  {
   "cell_type": "code",
   "execution_count": 6,
   "id": "305ccc8e",
   "metadata": {},
   "outputs": [
    {
     "data": {
      "text/plain": [
       "'Hanna'"
      ]
     },
     "execution_count": 6,
     "metadata": {},
     "output_type": "execute_result"
    }
   ],
   "source": [
    "name_records[3]['First name']"
   ]
  },
  {
   "cell_type": "code",
   "execution_count": 7,
   "id": "ceadd15a",
   "metadata": {},
   "outputs": [
    {
     "name": "stdout",
     "output_type": "stream",
     "text": [
      "Connar Ward: 15\n",
      "Rose Peterson: 18\n",
      "Paul Cox: 12\n",
      "Hanna Hicks: 10\n"
     ]
    }
   ],
   "source": [
    "for record in name_records:\n",
    "    print(f\"{record['First name']} {record['Last name']}: {record['Age']}\")"
   ]
  },
  {
   "cell_type": "code",
   "execution_count": null,
   "id": "402cf5e7",
   "metadata": {},
   "outputs": [],
   "source": []
  }
 ],
 "metadata": {
  "kernelspec": {
   "display_name": "Python 3 (ipykernel)",
   "language": "python",
   "name": "python3"
  },
  "language_info": {
   "codemirror_mode": {
    "name": "ipython",
    "version": 3
   },
   "file_extension": ".py",
   "mimetype": "text/x-python",
   "name": "python",
   "nbconvert_exporter": "python",
   "pygments_lexer": "ipython3",
   "version": "3.9.13"
  }
 },
 "nbformat": 4,
 "nbformat_minor": 5
}
