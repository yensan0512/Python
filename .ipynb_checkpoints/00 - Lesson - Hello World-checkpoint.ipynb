{
 "cells": [
  {
   "cell_type": "markdown",
   "id": "e6e96c0d",
   "metadata": {},
   "source": [
    "# Hello, World!\n",
    "- The story behind [Hello, World!](https://en.wikipedia.org/wiki/%22Hello,_World!%22_program)\n",
    "- The [Zen of Python](https://en.wikipedia.org/wiki/Zen_of_Python)\n"
   ]
  },
  {
   "cell_type": "markdown",
   "id": "732ba184",
   "metadata": {},
   "source": [
    "### Goal\n",
    "- Get started with **Python**\n",
    "- Get comfortable with **Jupyter Notebook**\n",
    "- Understand **input** and **print**\n",
    "- Learn string methods: **capitlize**, **lower**, **isdecimal**, **replace**"
   ]
  },
  {
   "cell_type": "code",
   "execution_count": 1,
   "id": "2d8813ba",
   "metadata": {},
   "outputs": [
    {
     "name": "stdout",
     "output_type": "stream",
     "text": [
      "Hello,World!\n"
     ]
    }
   ],
   "source": [
    "print(\"Hello,World!\")"
   ]
  },
  {
   "cell_type": "code",
   "execution_count": 2,
   "id": "7043f8f0",
   "metadata": {},
   "outputs": [
    {
     "name": "stdout",
     "output_type": "stream",
     "text": [
      "The Zen of Python, by Tim Peters\n",
      "\n",
      "Beautiful is better than ugly.\n",
      "Explicit is better than implicit.\n",
      "Simple is better than complex.\n",
      "Complex is better than complicated.\n",
      "Flat is better than nested.\n",
      "Sparse is better than dense.\n",
      "Readability counts.\n",
      "Special cases aren't special enough to break the rules.\n",
      "Although practicality beats purity.\n",
      "Errors should never pass silently.\n",
      "Unless explicitly silenced.\n",
      "In the face of ambiguity, refuse the temptation to guess.\n",
      "There should be one-- and preferably only one --obvious way to do it.\n",
      "Although that way may not be obvious at first unless you're Dutch.\n",
      "Now is better than never.\n",
      "Although never is often better than *right* now.\n",
      "If the implementation is hard to explain, it's a bad idea.\n",
      "If the implementation is easy to explain, it may be a good idea.\n",
      "Namespaces are one honking great idea -- let's do more of those!\n"
     ]
    }
   ],
   "source": [
    "import this"
   ]
  },
  {
   "cell_type": "code",
   "execution_count": 3,
   "id": "d981a5f6",
   "metadata": {},
   "outputs": [
    {
     "name": "stdout",
     "output_type": "stream",
     "text": [
      "Hey 10 2.2\n"
     ]
    }
   ],
   "source": [
    "print(\"Hey\",10,2.2)"
   ]
  },
  {
   "cell_type": "code",
   "execution_count": 4,
   "id": "c3110eab",
   "metadata": {},
   "outputs": [
    {
     "name": "stdout",
     "output_type": "stream",
     "text": [
      "Woo\n"
     ]
    }
   ],
   "source": [
    "s = input()"
   ]
  },
  {
   "cell_type": "code",
   "execution_count": 5,
   "id": "9aa2e7ed",
   "metadata": {},
   "outputs": [
    {
     "data": {
      "text/plain": [
       "'Woo'"
      ]
     },
     "execution_count": 5,
     "metadata": {},
     "output_type": "execute_result"
    }
   ],
   "source": [
    "s"
   ]
  },
  {
   "cell_type": "code",
   "execution_count": 6,
   "id": "06a9be84",
   "metadata": {},
   "outputs": [
    {
     "name": "stdout",
     "output_type": "stream",
     "text": [
      "What is your name?  Woo\n"
     ]
    }
   ],
   "source": [
    "s = input(\"What is your name? \")"
   ]
  },
  {
   "cell_type": "code",
   "execution_count": 7,
   "id": "86d1d718",
   "metadata": {},
   "outputs": [
    {
     "name": "stdout",
     "output_type": "stream",
     "text": [
      " Woo\n"
     ]
    }
   ],
   "source": [
    "print(s)"
   ]
  },
  {
   "cell_type": "code",
   "execution_count": 10,
   "id": "7f3c76e9",
   "metadata": {},
   "outputs": [
    {
     "name": "stdout",
     "output_type": "stream",
     "text": [
      "What is your name? woo\n",
      "Hello Woo\n",
      "How old are you? 27\n",
      "You are 27 years old\n"
     ]
    }
   ],
   "source": [
    "name = input(\"What is your name? \")\n",
    "print(\"Hello\",name.capitalize())\n",
    "age = input(\"How old are you? \")\n",
    "print(\"You are\",age,\"years old\")"
   ]
  },
  {
   "cell_type": "code",
   "execution_count": 13,
   "id": "4db28ac0",
   "metadata": {},
   "outputs": [
    {
     "name": "stdout",
     "output_type": "stream",
     "text": [
      "Woo\n"
     ]
    }
   ],
   "source": [
    "s = \"woo\"\n",
    "t = s.capitalize()\n",
    "print(t)"
   ]
  },
  {
   "cell_type": "code",
   "execution_count": 15,
   "id": "e6de6e8d",
   "metadata": {},
   "outputs": [
    {
     "data": {
      "text/plain": [
       "'WOO'"
      ]
     },
     "execution_count": 15,
     "metadata": {},
     "output_type": "execute_result"
    }
   ],
   "source": [
    "\"Woo\".upper()"
   ]
  },
  {
   "cell_type": "code",
   "execution_count": 16,
   "id": "e05ab4f1",
   "metadata": {},
   "outputs": [
    {
     "data": {
      "text/plain": [
       "'woo'"
      ]
     },
     "execution_count": 16,
     "metadata": {},
     "output_type": "execute_result"
    }
   ],
   "source": [
    "\"Woo\".lower()"
   ]
  },
  {
   "cell_type": "code",
   "execution_count": 18,
   "id": "f6787f98",
   "metadata": {},
   "outputs": [
    {
     "data": {
      "text/plain": [
       "True"
      ]
     },
     "execution_count": 18,
     "metadata": {},
     "output_type": "execute_result"
    }
   ],
   "source": [
    "\"223\".isdecimal()"
   ]
  },
  {
   "cell_type": "code",
   "execution_count": 19,
   "id": "bd5e5fa0",
   "metadata": {},
   "outputs": [
    {
     "data": {
      "text/plain": [
       "False"
      ]
     },
     "execution_count": 19,
     "metadata": {},
     "output_type": "execute_result"
    }
   ],
   "source": [
    "\"Woo\".isdecimal()"
   ]
  },
  {
   "cell_type": "code",
   "execution_count": 21,
   "id": "40dc8f82",
   "metadata": {},
   "outputs": [
    {
     "data": {
      "text/plain": [
       "'Soo'"
      ]
     },
     "execution_count": 21,
     "metadata": {},
     "output_type": "execute_result"
    }
   ],
   "source": [
    "name = \"Woo\"\n",
    "name.replace('W','S')"
   ]
  },
  {
   "cell_type": "code",
   "execution_count": 26,
   "id": "9f17ceda",
   "metadata": {},
   "outputs": [
    {
     "name": "stdout",
     "output_type": "stream",
     "text": [
      "Woo & Soo\n"
     ]
    }
   ],
   "source": [
    "print(\"Woo\",end = '')\n",
    "print(\" & Soo\")"
   ]
  },
  {
   "cell_type": "code",
   "execution_count": null,
   "id": "a034b5eb",
   "metadata": {},
   "outputs": [],
   "source": []
  }
 ],
 "metadata": {
  "kernelspec": {
   "display_name": "Python 3 (ipykernel)",
   "language": "python",
   "name": "python3"
  },
  "language_info": {
   "codemirror_mode": {
    "name": "ipython",
    "version": 3
   },
   "file_extension": ".py",
   "mimetype": "text/x-python",
   "name": "python",
   "nbconvert_exporter": "python",
   "pygments_lexer": "ipython3",
   "version": "3.9.13"
  }
 },
 "nbformat": 4,
 "nbformat_minor": 5
}
