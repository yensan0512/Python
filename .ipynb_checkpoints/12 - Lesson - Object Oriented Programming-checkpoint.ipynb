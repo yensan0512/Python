{
 "cells": [
  {
   "cell_type": "markdown",
   "id": "88e4f9c3",
   "metadata": {},
   "source": [
    "# Object-Oriented Programming\n",
    "### Goal\n",
    "- Learn the basics behind object oriented programming."
   ]
  },
  {
   "cell_type": "markdown",
   "id": "065219b2",
   "metadata": {},
   "source": [
    "### Object-Oriented Programming\n",
    "- At is core, object-oriented programming helps you with structuring your program to resemble reality. \n",
    "- That is, you declare objects with parameters and methods (functions) you need on them.\n",
    "- We will learn by implementing the following classes.\n",
    "\n",
    "![Class diagram](img/ClassDiagram.png)"
   ]
  },
  {
   "cell_type": "code",
   "execution_count": 40,
   "id": "1d686593",
   "metadata": {},
   "outputs": [],
   "source": [
    "class Card:\n",
    "    suits = ['\\u2666', '\\u2665', '\\u2663', '\\u2660']\n",
    "    ranks = [\"2\", \"3\", \"4\", \"5\", \"6\", \"7\", \"8\", \"9\", \"10\", \"J\", \"Q\", \"K\", \"A\"]\n",
    "    \n",
    "    def __init__(self, suit, rank):\n",
    "        self.suit = suit\n",
    "        self.rank = rank\n",
    "        \n",
    "    def __str__(self):\n",
    "        return f\"{Card.ranks[self.rank]} {Card.suits[self.suit]}\"\n",
    "    \n",
    "    def __lt__(self,other):\n",
    "        if self.rank == other.rank:\n",
    "            return self.suit < other.suit\n",
    "        else:\n",
    "            return self.rank < other.rank"
   ]
  },
  {
   "cell_type": "code",
   "execution_count": 41,
   "id": "923f64b0",
   "metadata": {},
   "outputs": [],
   "source": [
    "c1 = Card(0,0)\n",
    "c2 = Card(1,1)"
   ]
  },
  {
   "cell_type": "code",
   "execution_count": 42,
   "id": "493c10bc",
   "metadata": {},
   "outputs": [
    {
     "data": {
      "text/plain": [
       "0"
      ]
     },
     "execution_count": 42,
     "metadata": {},
     "output_type": "execute_result"
    }
   ],
   "source": [
    "c1.suit"
   ]
  },
  {
   "cell_type": "code",
   "execution_count": 43,
   "id": "5b835086",
   "metadata": {},
   "outputs": [
    {
     "data": {
      "text/plain": [
       "1"
      ]
     },
     "execution_count": 43,
     "metadata": {},
     "output_type": "execute_result"
    }
   ],
   "source": [
    "c2.suit"
   ]
  },
  {
   "cell_type": "code",
   "execution_count": 44,
   "id": "f94d730e",
   "metadata": {},
   "outputs": [
    {
     "name": "stdout",
     "output_type": "stream",
     "text": [
      "2 ♦ 3 ♥\n"
     ]
    }
   ],
   "source": [
    "print(c1,c2)"
   ]
  },
  {
   "cell_type": "code",
   "execution_count": 45,
   "id": "1ef050b1",
   "metadata": {},
   "outputs": [
    {
     "data": {
      "text/plain": [
       "True"
      ]
     },
     "execution_count": 45,
     "metadata": {},
     "output_type": "execute_result"
    }
   ],
   "source": [
    "c1 < c2"
   ]
  },
  {
   "cell_type": "code",
   "execution_count": 46,
   "id": "e86fb1df",
   "metadata": {},
   "outputs": [
    {
     "data": {
      "text/plain": [
       "False"
      ]
     },
     "execution_count": 46,
     "metadata": {},
     "output_type": "execute_result"
    }
   ],
   "source": [
    "c1 > c2"
   ]
  },
  {
   "cell_type": "code",
   "execution_count": 67,
   "id": "00467b03",
   "metadata": {},
   "outputs": [],
   "source": [
    "import random"
   ]
  },
  {
   "cell_type": "code",
   "execution_count": 78,
   "id": "18487bdc",
   "metadata": {},
   "outputs": [],
   "source": [
    "class Deck:\n",
    "    def __init__(self):\n",
    "        self.deck = []\n",
    "        for suit in range(4):\n",
    "            for rank in range(13):\n",
    "                self.deck.append(Card(suit,rank))\n",
    "        self.shuffle()\n",
    "        \n",
    "    def __len__(self):\n",
    "        return len(self.deck)\n",
    "    \n",
    "    def add_card(self,card):\n",
    "        self.deck.append(card)\n",
    "        \n",
    "    def pop_card(self):\n",
    "        return self.deck.pop()\n",
    "    \n",
    "    def shuffle(self):\n",
    "        random.shuffle(self.deck)"
   ]
  },
  {
   "cell_type": "code",
   "execution_count": 79,
   "id": "b3fd8e71",
   "metadata": {},
   "outputs": [
    {
     "name": "stdout",
     "output_type": "stream",
     "text": [
      "J ♣\n"
     ]
    }
   ],
   "source": [
    "deck = Deck()\n",
    "\n",
    "\n",
    "\n",
    "print(deck.pop_card())"
   ]
  },
  {
   "cell_type": "code",
   "execution_count": 80,
   "id": "b56d344d",
   "metadata": {},
   "outputs": [
    {
     "data": {
      "text/plain": [
       "51"
      ]
     },
     "execution_count": 80,
     "metadata": {},
     "output_type": "execute_result"
    }
   ],
   "source": [
    "len(deck)"
   ]
  },
  {
   "cell_type": "code",
   "execution_count": 94,
   "id": "d580e2dd",
   "metadata": {},
   "outputs": [],
   "source": [
    "class Hand(Deck):\n",
    "    def __init__(self,label):\n",
    "        self.deck = []\n",
    "        self.label = label\n",
    "        self.win_count = 0\n",
    "        \n",
    "    def __str__(self):\n",
    "        return self.label + ': ' + ' '.join([str(card) for card in self.deck])\n",
    "    \n",
    "    def get_label(self):\n",
    "        return self.label\n",
    "    \n",
    "    def get_win_count(self):\n",
    "        return self.win_count\n",
    "    \n",
    "    def round_winner(self):\n",
    "        self.win_count = self.win_count + 1"
   ]
  },
  {
   "cell_type": "code",
   "execution_count": 95,
   "id": "ddf214e2",
   "metadata": {},
   "outputs": [
    {
     "name": "stdout",
     "output_type": "stream",
     "text": [
      "Player: J ♠ Q ♦ Q ♠\n"
     ]
    }
   ],
   "source": [
    "hand = Hand(\"Player\")\n",
    "\n",
    "hand.add_card(deck.pop_card())\n",
    "hand.add_card(deck.pop_card())\n",
    "hand.add_card(deck.pop_card())\n",
    "\n",
    "print(hand)\n"
   ]
  },
  {
   "cell_type": "code",
   "execution_count": 96,
   "id": "7eac3da5",
   "metadata": {},
   "outputs": [
    {
     "name": "stdout",
     "output_type": "stream",
     "text": [
      "Player 2\n"
     ]
    }
   ],
   "source": [
    "hand.round_winner()\n",
    "hand.round_winner()\n",
    "\n",
    "print(hand.get_label(),hand.get_win_count())"
   ]
  },
  {
   "cell_type": "code",
   "execution_count": null,
   "id": "80492b46",
   "metadata": {},
   "outputs": [],
   "source": []
  }
 ],
 "metadata": {
  "kernelspec": {
   "display_name": "Python 3 (ipykernel)",
   "language": "python",
   "name": "python3"
  },
  "language_info": {
   "codemirror_mode": {
    "name": "ipython",
    "version": 3
   },
   "file_extension": ".py",
   "mimetype": "text/x-python",
   "name": "python",
   "nbconvert_exporter": "python",
   "pygments_lexer": "ipython3",
   "version": "3.9.13"
  }
 },
 "nbformat": 4,
 "nbformat_minor": 5
}
