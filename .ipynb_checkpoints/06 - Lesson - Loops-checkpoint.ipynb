{
 "cells": [
  {
   "cell_type": "markdown",
   "id": "8509c669",
   "metadata": {},
   "source": [
    "# Loops\n",
    "### Goal\n",
    "- Learn how to iterate over lists\n",
    "- Iterate over the chars in a string\n",
    "- Create a for-loop over a range\n",
    "- Create a while-loop"
   ]
  },
  {
   "cell_type": "code",
   "execution_count": 1,
   "id": "25ab2ddf",
   "metadata": {},
   "outputs": [],
   "source": [
    "my_list = ['First','Second','Third']"
   ]
  },
  {
   "cell_type": "code",
   "execution_count": 2,
   "id": "ba9582fb",
   "metadata": {},
   "outputs": [
    {
     "data": {
      "text/plain": [
       "['First', 'Second', 'Third']"
      ]
     },
     "execution_count": 2,
     "metadata": {},
     "output_type": "execute_result"
    }
   ],
   "source": [
    "my_list"
   ]
  },
  {
   "cell_type": "code",
   "execution_count": 3,
   "id": "86a4e8fd",
   "metadata": {},
   "outputs": [
    {
     "name": "stdout",
     "output_type": "stream",
     "text": [
      "First\n",
      "Second\n",
      "Third\n"
     ]
    }
   ],
   "source": [
    "for item in my_list:\n",
    "    print(item)"
   ]
  },
  {
   "cell_type": "code",
   "execution_count": 5,
   "id": "c44e733b",
   "metadata": {},
   "outputs": [
    {
     "name": "stdout",
     "output_type": "stream",
     "text": [
      "W\n",
      "Inside loop\n",
      "o\n",
      "Inside loop\n",
      "o\n",
      "Inside loop\n",
      "Outside loop\n"
     ]
    }
   ],
   "source": [
    "s = \"Woo\"\n",
    "\n",
    "for c in s:\n",
    "    print(c)\n",
    "    print(\"Inside loop\")\n",
    "print(\"Outside loop\")"
   ]
  },
  {
   "cell_type": "code",
   "execution_count": 7,
   "id": "3945a871",
   "metadata": {},
   "outputs": [
    {
     "name": "stdout",
     "output_type": "stream",
     "text": [
      "2\n",
      "3\n"
     ]
    }
   ],
   "source": [
    "for i in range(2,4):\n",
    "    print(i)"
   ]
  },
  {
   "cell_type": "code",
   "execution_count": 8,
   "id": "ca6bf486",
   "metadata": {},
   "outputs": [
    {
     "data": {
      "text/plain": [
       "['First', 'Second', 'Third']"
      ]
     },
     "execution_count": 8,
     "metadata": {},
     "output_type": "execute_result"
    }
   ],
   "source": [
    "my_list"
   ]
  },
  {
   "cell_type": "code",
   "execution_count": 10,
   "id": "31e486c5",
   "metadata": {},
   "outputs": [
    {
     "name": "stdout",
     "output_type": "stream",
     "text": [
      "0 First\n",
      "1 Second\n",
      "2 Third\n"
     ]
    }
   ],
   "source": [
    "for i in range(len(my_list)):\n",
    "    print(i,my_list[i])"
   ]
  },
  {
   "cell_type": "code",
   "execution_count": 11,
   "id": "8dd486b8",
   "metadata": {},
   "outputs": [
    {
     "name": "stdout",
     "output_type": "stream",
     "text": [
      "Value ? 9\n",
      "Value ? 5\n",
      "Value ? 4\n",
      "Value ? 0\n"
     ]
    }
   ],
   "source": [
    "value = 10\n",
    "\n",
    "while value > 0:\n",
    "    value = int(input(\"Value ? \"))"
   ]
  },
  {
   "cell_type": "markdown",
   "id": "02d6ef97",
   "metadata": {},
   "source": [
    "### A few new things"
   ]
  },
  {
   "cell_type": "code",
   "execution_count": 14,
   "id": "c423c58e",
   "metadata": {},
   "outputs": [],
   "source": [
    "s = \"abc\"\n",
    "c = 'd'\n",
    "\n",
    "if c in s:\n",
    "    print(\"c is in s\")"
   ]
  },
  {
   "cell_type": "code",
   "execution_count": 15,
   "id": "14a4305d",
   "metadata": {},
   "outputs": [
    {
     "name": "stdout",
     "output_type": "stream",
     "text": [
      "c not in s\n"
     ]
    }
   ],
   "source": [
    "if c not in s:\n",
    "    print(\"c not in s\")"
   ]
  },
  {
   "cell_type": "code",
   "execution_count": 16,
   "id": "1d007d5c",
   "metadata": {},
   "outputs": [
    {
     "name": "stdout",
     "output_type": "stream",
     "text": [
      "awesome\n"
     ]
    }
   ],
   "source": [
    "a = 10\n",
    "b = 12\n",
    "c = 14\n",
    "\n",
    "if a < b and b < c:\n",
    "    print(\"awesome\")"
   ]
  }
 ],
 "metadata": {
  "kernelspec": {
   "display_name": "Python 3 (ipykernel)",
   "language": "python",
   "name": "python3"
  },
  "language_info": {
   "codemirror_mode": {
    "name": "ipython",
    "version": 3
   },
   "file_extension": ".py",
   "mimetype": "text/x-python",
   "name": "python",
   "nbconvert_exporter": "python",
   "pygments_lexer": "ipython3",
   "version": "3.9.13"
  }
 },
 "nbformat": 4,
 "nbformat_minor": 5
}
