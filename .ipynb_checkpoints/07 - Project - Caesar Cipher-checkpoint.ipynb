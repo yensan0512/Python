{
 "cells": [
  {
   "cell_type": "markdown",
   "id": "3f89e70d",
   "metadata": {},
   "source": [
    "# Project - Caesar Cipher\n",
    "### Goal\n",
    "- Create [Caesar Cipher](https://en.wikipedia.org/wiki/Caesar_cipher) encryption and decryption functionality"
   ]
  },
  {
   "cell_type": "markdown",
   "id": "37ad2807",
   "metadata": {},
   "source": [
    "### Description\n",
    "- The Caesar Cipher is a simple substitution cipher, which is limited to only shift the characters by fixed number.\n",
    "- Let's take an example\n",
    "    - Imagine you got the message: BRX DUH DZHVRPH. What to make out of it. Makes no sense.\n",
    "    - But what if we get help from this diagram\n",
    "    \n",
    "![Caesar Cipher](img/CaesarCipher.png)"
   ]
  },
  {
   "cell_type": "markdown",
   "id": "bb3faf95",
   "metadata": {},
   "source": [
    "### Project\n",
    "- Implement helper function **encrypt_char(char, key)** to encrypt a single character, **char**, with **key**.\n",
    "    - It can be helpful to use **ord()**, **chr()** and **%**.\n",
    "    - Calculation can be a bit tricky.\n",
    "- Implement **encrypt_message(message, key)**, it should use the helper function.\n",
    "- Implement similar functions for decrypt."
   ]
  },
  {
   "cell_type": "code",
   "execution_count": 20,
   "id": "1220b64e",
   "metadata": {},
   "outputs": [],
   "source": [
    "def encrypt_char(char, key):\n",
    "    return chr(ord('A') + (ord(char) - ord('A') + key) % 26)"
   ]
  },
  {
   "cell_type": "code",
   "execution_count": 21,
   "id": "f863e116",
   "metadata": {},
   "outputs": [],
   "source": [
    "def encrypt_message(message,key):\n",
    "    message = message.upper()\n",
    "    cipher = ''\n",
    "    for c in message:\n",
    "        if c in ' .,':\n",
    "            cipher = cipher + c\n",
    "        else:\n",
    "            cipher = cipher + encrypt_char(c,key)\n",
    "    return cipher"
   ]
  },
  {
   "cell_type": "code",
   "execution_count": 22,
   "id": "c43624aa",
   "metadata": {},
   "outputs": [
    {
     "data": {
      "text/plain": [
       "'BRX DUH DZHVRPH'"
      ]
     },
     "execution_count": 22,
     "metadata": {},
     "output_type": "execute_result"
    }
   ],
   "source": [
    "encrypt_message(\"you are awesome\",3)"
   ]
  },
  {
   "cell_type": "code",
   "execution_count": 24,
   "id": "34ad030d",
   "metadata": {},
   "outputs": [],
   "source": [
    "def decrypt_char(char,key):\n",
    "    return chr(ord('A') + (ord(char) - ord('A') + 26 - key) % 26)"
   ]
  },
  {
   "cell_type": "code",
   "execution_count": 28,
   "id": "d9477c8d",
   "metadata": {},
   "outputs": [],
   "source": [
    "def decrypt_message(cipher,key):\n",
    "    message = ''\n",
    "    for c in cipher:\n",
    "        if c in ' ,.':\n",
    "            message = message + c\n",
    "        else:\n",
    "            message = message + decrypt_char(c,key)\n",
    "    return message"
   ]
  },
  {
   "cell_type": "code",
   "execution_count": 29,
   "id": "4071e308",
   "metadata": {},
   "outputs": [
    {
     "data": {
      "text/plain": [
       "'YOU ARE AWESOME'"
      ]
     },
     "execution_count": 29,
     "metadata": {},
     "output_type": "execute_result"
    }
   ],
   "source": [
    "decrypt_message('BRX DUH DZHVRPH',3)"
   ]
  },
  {
   "cell_type": "code",
   "execution_count": 30,
   "id": "735fd9b0",
   "metadata": {},
   "outputs": [],
   "source": [
    "def decrypt_message2(cipher,key):\n",
    "    return encrypt_message(cipher, 26 - key)"
   ]
  },
  {
   "cell_type": "code",
   "execution_count": 31,
   "id": "b2460879",
   "metadata": {},
   "outputs": [
    {
     "data": {
      "text/plain": [
       "'YOU ARE AWESOME'"
      ]
     },
     "execution_count": 31,
     "metadata": {},
     "output_type": "execute_result"
    }
   ],
   "source": [
    "decrypt_message2('BRX DUH DZHVRPH',3)"
   ]
  },
  {
   "cell_type": "code",
   "execution_count": null,
   "id": "3ac75c38",
   "metadata": {},
   "outputs": [],
   "source": []
  }
 ],
 "metadata": {
  "kernelspec": {
   "display_name": "Python 3 (ipykernel)",
   "language": "python",
   "name": "python3"
  },
  "language_info": {
   "codemirror_mode": {
    "name": "ipython",
    "version": 3
   },
   "file_extension": ".py",
   "mimetype": "text/x-python",
   "name": "python",
   "nbconvert_exporter": "python",
   "pygments_lexer": "ipython3",
   "version": "3.9.13"
  }
 },
 "nbformat": 4,
 "nbformat_minor": 5
}
