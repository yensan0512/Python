{
 "cells": [
  {
   "cell_type": "markdown",
   "id": "47e1ffca",
   "metadata": {},
   "source": [
    "# Project - List and Dict Comprehension\n",
    "### Goal\n",
    "- Learn to use list and dict comprehension"
   ]
  },
  {
   "cell_type": "markdown",
   "id": "2968b15b",
   "metadata": {},
   "source": [
    "### Description\n",
    "- Redo some of our code"
   ]
  },
  {
   "cell_type": "markdown",
   "id": "431dd5dd",
   "metadata": {},
   "source": [
    "### Encrypt with List Comprehension\n",
    "- Use **encrypt_char** and list comprehension to encrypt a string (\"you are awesome\").\n",
    "- HINT: You can use join(.)"
   ]
  },
  {
   "cell_type": "code",
   "execution_count": 1,
   "id": "97bde0d6",
   "metadata": {},
   "outputs": [],
   "source": [
    "def encrypt_char(char, key):\n",
    "    return chr(ord('A') + (ord(char) - ord('A') + key) % 26)"
   ]
  },
  {
   "cell_type": "code",
   "execution_count": 2,
   "id": "cda43d72",
   "metadata": {},
   "outputs": [
    {
     "data": {
      "text/plain": [
       "'B'"
      ]
     },
     "execution_count": 2,
     "metadata": {},
     "output_type": "execute_result"
    }
   ],
   "source": [
    "encrypt_char('Y',3)"
   ]
  },
  {
   "cell_type": "code",
   "execution_count": 9,
   "id": "5a773b21",
   "metadata": {},
   "outputs": [
    {
     "data": {
      "text/plain": [
       "'BRX DUH DZHVRPH'"
      ]
     },
     "execution_count": 9,
     "metadata": {},
     "output_type": "execute_result"
    }
   ],
   "source": [
    "message = \"you are awesome\"\n",
    "key = 3\n",
    "\n",
    "[c for c in message.upper()]\n",
    "cipher_list = [encrypt_char(c,key) if c not in ' ,.' else c for c in message.upper()]\n",
    "''.join(cipher_list)"
   ]
  },
  {
   "cell_type": "markdown",
   "id": "29be8077",
   "metadata": {},
   "source": [
    "### Decrypt with List Comprehension\n",
    "- Use **decrypt_char** and list comprehension to decrypt the cipher."
   ]
  },
  {
   "cell_type": "code",
   "execution_count": 13,
   "id": "b71ae182",
   "metadata": {},
   "outputs": [],
   "source": [
    "def decrypt_char(char,key):\n",
    "    return encrypt_char(char, 26 - key)"
   ]
  },
  {
   "cell_type": "code",
   "execution_count": 14,
   "id": "1f3dacc4",
   "metadata": {},
   "outputs": [
    {
     "data": {
      "text/plain": [
       "'YOU ARE AWESOME'"
      ]
     },
     "execution_count": 14,
     "metadata": {},
     "output_type": "execute_result"
    }
   ],
   "source": [
    "cipher  = 'BRX DUH DZHVRPH'\n",
    "key = 3\n",
    "\n",
    "message_list = [decrypt_char(c,key) if c not in ' ,.' else c for c in cipher.upper()]\n",
    "''.join(message_list)"
   ]
  },
  {
   "cell_type": "markdown",
   "id": "5a96f1d9",
   "metadata": {},
   "source": [
    "### Use Dict Comprehension for Frequency Count\n",
    "- Prompt the user for a line of text.\n",
    "- Use dict comprehension to count the number of occurences of each characerter.\n",
    "- Example: \"aabbccccc\" should give {'a': 2, 'b': 2, 'c': 5}\n",
    "- HINT: using count('a') on a string will return the number of occurences of 'a'."
   ]
  },
  {
   "cell_type": "code",
   "execution_count": 15,
   "id": "87027aa2",
   "metadata": {},
   "outputs": [
    {
     "name": "stdout",
     "output_type": "stream",
     "text": [
      "Input line of text: aabbccccc\n"
     ]
    },
    {
     "data": {
      "text/plain": [
       "{'a': 2, 'b': 2, 'c': 5}"
      ]
     },
     "execution_count": 15,
     "metadata": {},
     "output_type": "execute_result"
    }
   ],
   "source": [
    "text = input(\"Input line of text: \")\n",
    "\n",
    "{c: text.count(c) for c in text}"
   ]
  },
  {
   "cell_type": "code",
   "execution_count": 16,
   "id": "fcbadfd7",
   "metadata": {},
   "outputs": [
    {
     "name": "stdout",
     "output_type": "stream",
     "text": [
      "Input line of text: aabbccccc\n",
      "aabbccccc\n",
      "{'b', 'a', 'c'}\n"
     ]
    },
    {
     "data": {
      "text/plain": [
       "{'b': 2, 'a': 2, 'c': 5}"
      ]
     },
     "execution_count": 16,
     "metadata": {},
     "output_type": "execute_result"
    }
   ],
   "source": [
    "text = input(\"Input line of text: \")\n",
    "\n",
    "print(text)\n",
    "print(set(text))\n",
    "\n",
    "{c: text.count(c) for c in set(text)}"
   ]
  },
  {
   "cell_type": "code",
   "execution_count": null,
   "id": "2276c917",
   "metadata": {},
   "outputs": [],
   "source": []
  }
 ],
 "metadata": {
  "kernelspec": {
   "display_name": "Python 3 (ipykernel)",
   "language": "python",
   "name": "python3"
  },
  "language_info": {
   "codemirror_mode": {
    "name": "ipython",
    "version": 3
   },
   "file_extension": ".py",
   "mimetype": "text/x-python",
   "name": "python",
   "nbconvert_exporter": "python",
   "pygments_lexer": "ipython3",
   "version": "3.9.13"
  }
 },
 "nbformat": 4,
 "nbformat_minor": 5
}
