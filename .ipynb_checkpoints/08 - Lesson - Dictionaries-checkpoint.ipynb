{
 "cells": [
  {
   "cell_type": "markdown",
   "id": "e9f44b39",
   "metadata": {},
   "source": [
    "# Dictionaries\n",
    "### Goal\n",
    "- Learn about dictionaries (dict) in Python\n",
    "- Store key-value pairs"
   ]
  },
  {
   "cell_type": "code",
   "execution_count": 1,
   "id": "4be62211",
   "metadata": {},
   "outputs": [],
   "source": [
    "my_dict = {\n",
    "    'Key 1': 'Value 1',\n",
    "    'Key 2': 'Value 2'\n",
    "}"
   ]
  },
  {
   "cell_type": "code",
   "execution_count": 2,
   "id": "d3252210",
   "metadata": {},
   "outputs": [
    {
     "data": {
      "text/plain": [
       "'Value 1'"
      ]
     },
     "execution_count": 2,
     "metadata": {},
     "output_type": "execute_result"
    }
   ],
   "source": [
    "my_dict['Key 1']"
   ]
  },
  {
   "cell_type": "code",
   "execution_count": 3,
   "id": "3e2230c8",
   "metadata": {},
   "outputs": [
    {
     "data": {
      "text/plain": [
       "'Value 2'"
      ]
     },
     "execution_count": 3,
     "metadata": {},
     "output_type": "execute_result"
    }
   ],
   "source": [
    "my_dict['Key 2']"
   ]
  },
  {
   "cell_type": "code",
   "execution_count": 4,
   "id": "c7025c13",
   "metadata": {},
   "outputs": [],
   "source": [
    "my_dict['Key 3'] = 'Value 3'"
   ]
  },
  {
   "cell_type": "code",
   "execution_count": 5,
   "id": "654ddbd6",
   "metadata": {},
   "outputs": [
    {
     "data": {
      "text/plain": [
       "{'Key 1': 'Value 1', 'Key 2': 'Value 2', 'Key 3': 'Value 3'}"
      ]
     },
     "execution_count": 5,
     "metadata": {},
     "output_type": "execute_result"
    }
   ],
   "source": [
    "my_dict"
   ]
  },
  {
   "cell_type": "code",
   "execution_count": 6,
   "id": "c6e3bf37",
   "metadata": {},
   "outputs": [],
   "source": [
    "my_dict['Key 2'] = 'Value 3'"
   ]
  },
  {
   "cell_type": "code",
   "execution_count": 7,
   "id": "2dd57378",
   "metadata": {},
   "outputs": [
    {
     "data": {
      "text/plain": [
       "{'Key 1': 'Value 1', 'Key 2': 'Value 3', 'Key 3': 'Value 3'}"
      ]
     },
     "execution_count": 7,
     "metadata": {},
     "output_type": "execute_result"
    }
   ],
   "source": [
    "my_dict"
   ]
  },
  {
   "cell_type": "code",
   "execution_count": 8,
   "id": "9f392ebf",
   "metadata": {},
   "outputs": [],
   "source": [
    "car = {\n",
    "    'Brand' : 'Lamborghini',\n",
    "    'Mode': 'Sian',\n",
    "    'Year':2020\n",
    "}"
   ]
  },
  {
   "cell_type": "code",
   "execution_count": 9,
   "id": "e0cf0250",
   "metadata": {},
   "outputs": [
    {
     "data": {
      "text/plain": [
       "{'Brand': 'Lamborghini', 'Mode': 'Sian', 'Year': 2020}"
      ]
     },
     "execution_count": 9,
     "metadata": {},
     "output_type": "execute_result"
    }
   ],
   "source": [
    "car"
   ]
  },
  {
   "cell_type": "code",
   "execution_count": 13,
   "id": "4a5faffe",
   "metadata": {},
   "outputs": [],
   "source": [
    "items = ['Pen','Scissor','Pen','Pen','Scissor']\n",
    "\n",
    "count = {}\n",
    "for item in items:\n",
    "    count[item] = count.get(item , 0 ) + 1"
   ]
  },
  {
   "cell_type": "code",
   "execution_count": 14,
   "id": "a23564fa",
   "metadata": {},
   "outputs": [
    {
     "data": {
      "text/plain": [
       "{'Pen': 3, 'Scissor': 2}"
      ]
     },
     "execution_count": 14,
     "metadata": {},
     "output_type": "execute_result"
    }
   ],
   "source": [
    "count"
   ]
  },
  {
   "cell_type": "code",
   "execution_count": 15,
   "id": "b17546d9",
   "metadata": {},
   "outputs": [
    {
     "name": "stdout",
     "output_type": "stream",
     "text": [
      "Pen 3\n",
      "Scissor 2\n"
     ]
    }
   ],
   "source": [
    "for key,value in count.items():\n",
    "    print(key,value)"
   ]
  },
  {
   "cell_type": "code",
   "execution_count": 16,
   "id": "322d10c9",
   "metadata": {},
   "outputs": [
    {
     "name": "stdout",
     "output_type": "stream",
     "text": [
      "Brand Lamborghini\n",
      "Mode Sian\n",
      "Year 2020\n"
     ]
    }
   ],
   "source": [
    "for key,value in car.items():\n",
    "    print(key,value)"
   ]
  },
  {
   "cell_type": "code",
   "execution_count": 17,
   "id": "1f4a9e73",
   "metadata": {},
   "outputs": [
    {
     "data": {
      "text/plain": [
       "dict_keys(['Brand', 'Mode', 'Year'])"
      ]
     },
     "execution_count": 17,
     "metadata": {},
     "output_type": "execute_result"
    }
   ],
   "source": [
    "car.keys()"
   ]
  },
  {
   "cell_type": "code",
   "execution_count": 18,
   "id": "c908cb8c",
   "metadata": {},
   "outputs": [
    {
     "data": {
      "text/plain": [
       "['Brand', 'Mode', 'Year']"
      ]
     },
     "execution_count": 18,
     "metadata": {},
     "output_type": "execute_result"
    }
   ],
   "source": [
    "list(car.keys())"
   ]
  },
  {
   "cell_type": "code",
   "execution_count": 20,
   "id": "b2bd9d54",
   "metadata": {},
   "outputs": [
    {
     "data": {
      "text/plain": [
       "list"
      ]
     },
     "execution_count": 20,
     "metadata": {},
     "output_type": "execute_result"
    }
   ],
   "source": [
    "type(list(car.keys()))"
   ]
  },
  {
   "cell_type": "code",
   "execution_count": 21,
   "id": "1d324dfc",
   "metadata": {},
   "outputs": [
    {
     "data": {
      "text/plain": [
       "['Pen', 'Scissor']"
      ]
     },
     "execution_count": 21,
     "metadata": {},
     "output_type": "execute_result"
    }
   ],
   "source": [
    "list(count.keys())"
   ]
  },
  {
   "cell_type": "code",
   "execution_count": null,
   "id": "4f1af51c",
   "metadata": {},
   "outputs": [],
   "source": []
  }
 ],
 "metadata": {
  "kernelspec": {
   "display_name": "Python 3 (ipykernel)",
   "language": "python",
   "name": "python3"
  },
  "language_info": {
   "codemirror_mode": {
    "name": "ipython",
    "version": 3
   },
   "file_extension": ".py",
   "mimetype": "text/x-python",
   "name": "python",
   "nbconvert_exporter": "python",
   "pygments_lexer": "ipython3",
   "version": "3.9.13"
  }
 },
 "nbformat": 4,
 "nbformat_minor": 5
}
