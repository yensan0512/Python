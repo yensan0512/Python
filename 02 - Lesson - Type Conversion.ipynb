{
 "cells": [
  {
   "cell_type": "markdown",
   "id": "d1aa7e98",
   "metadata": {},
   "source": [
    "# Type Conversion\n",
    "- More about formatted strings\n",
    "- Types are not the same\n",
    "- Convert them with **int(), float(), str()**"
   ]
  },
  {
   "cell_type": "code",
   "execution_count": 3,
   "id": "eb14e5fe",
   "metadata": {},
   "outputs": [
    {
     "name": "stdout",
     "output_type": "stream",
     "text": [
      "What is your name?woo\n",
      "Hello woo!\n",
      "What is your birth year? 1996\n",
      "You were born in 1996.\n"
     ]
    }
   ],
   "source": [
    "name = input(\"What is your name?\")\n",
    "print(f\"Hello {name}!\")\n",
    "birth_year = input(\"What is your birth year? \")\n",
    "print(f\"You were born in {birth_year}.\")"
   ]
  },
  {
   "cell_type": "code",
   "execution_count": 7,
   "id": "6c3621f8",
   "metadata": {},
   "outputs": [
    {
     "name": "stdout",
     "output_type": "stream",
     "text": [
      "What is your name?woo\n",
      "Hello woo!\n",
      "What is your birth year? 1996\n"
     ]
    },
    {
     "ename": "TypeError",
     "evalue": "unsupported operand type(s) for -: 'int' and 'str'",
     "output_type": "error",
     "traceback": [
      "\u001b[1;31m---------------------------------------------------------------------------\u001b[0m",
      "\u001b[1;31mTypeError\u001b[0m                                 Traceback (most recent call last)",
      "\u001b[1;32m~\\AppData\\Local\\Temp\\ipykernel_15012\\905188604.py\u001b[0m in \u001b[0;36m<module>\u001b[1;34m\u001b[0m\n\u001b[0;32m      2\u001b[0m \u001b[0mprint\u001b[0m\u001b[1;33m(\u001b[0m\u001b[1;34mf\"Hello {name}!\"\u001b[0m\u001b[1;33m)\u001b[0m\u001b[1;33m\u001b[0m\u001b[1;33m\u001b[0m\u001b[0m\n\u001b[0;32m      3\u001b[0m \u001b[0mbirth_year\u001b[0m \u001b[1;33m=\u001b[0m \u001b[0minput\u001b[0m\u001b[1;33m(\u001b[0m\u001b[1;34m\"What is your birth year? \"\u001b[0m\u001b[1;33m)\u001b[0m\u001b[1;33m\u001b[0m\u001b[1;33m\u001b[0m\u001b[0m\n\u001b[1;32m----> 4\u001b[1;33m \u001b[0mprint\u001b[0m\u001b[1;33m(\u001b[0m\u001b[1;34mf\"You are {2023 - birth_year} old!\"\u001b[0m\u001b[1;33m)\u001b[0m\u001b[1;33m\u001b[0m\u001b[1;33m\u001b[0m\u001b[0m\n\u001b[0m",
      "\u001b[1;31mTypeError\u001b[0m: unsupported operand type(s) for -: 'int' and 'str'"
     ]
    }
   ],
   "source": [
    "name = input(\"What is your name?\")\n",
    "print(f\"Hello {name}!\")\n",
    "birth_year = input(\"What is your birth year? \")\n",
    "print(f\"You are {2023 - birth_year} old!\")"
   ]
  },
  {
   "cell_type": "code",
   "execution_count": 5,
   "id": "c9a17dcc",
   "metadata": {},
   "outputs": [
    {
     "data": {
      "text/plain": [
       "str"
      ]
     },
     "execution_count": 5,
     "metadata": {},
     "output_type": "execute_result"
    }
   ],
   "source": [
    "type(birth_year)"
   ]
  },
  {
   "cell_type": "code",
   "execution_count": 8,
   "id": "9ff27843",
   "metadata": {},
   "outputs": [
    {
     "data": {
      "text/plain": [
       "1996"
      ]
     },
     "execution_count": 8,
     "metadata": {},
     "output_type": "execute_result"
    }
   ],
   "source": [
    "int(birth_year)"
   ]
  },
  {
   "cell_type": "code",
   "execution_count": 9,
   "id": "7120c206",
   "metadata": {},
   "outputs": [
    {
     "name": "stdout",
     "output_type": "stream",
     "text": [
      "What is your name?woo\n",
      "Hello woo!\n",
      "What is your birth year? 1996\n",
      "You are 27 old!\n"
     ]
    }
   ],
   "source": [
    "name = input(\"What is your name?\")\n",
    "print(f\"Hello {name}!\")\n",
    "birth_year = input(\"What is your birth year? \")\n",
    "birth_year = int(birth_year)\n",
    "print(f\"You are {2023 - birth_year} old!\")"
   ]
  },
  {
   "cell_type": "code",
   "execution_count": 10,
   "id": "61f36e45",
   "metadata": {},
   "outputs": [
    {
     "data": {
      "text/plain": [
       "30"
      ]
     },
     "execution_count": 10,
     "metadata": {},
     "output_type": "execute_result"
    }
   ],
   "source": [
    "int(\"30\")"
   ]
  },
  {
   "cell_type": "code",
   "execution_count": 11,
   "id": "99dad427",
   "metadata": {},
   "outputs": [
    {
     "ename": "ValueError",
     "evalue": "invalid literal for int() with base 10: 'r4'",
     "output_type": "error",
     "traceback": [
      "\u001b[1;31m---------------------------------------------------------------------------\u001b[0m",
      "\u001b[1;31mValueError\u001b[0m                                Traceback (most recent call last)",
      "\u001b[1;32m~\\AppData\\Local\\Temp\\ipykernel_15012\\2971344655.py\u001b[0m in \u001b[0;36m<module>\u001b[1;34m\u001b[0m\n\u001b[1;32m----> 1\u001b[1;33m \u001b[0mint\u001b[0m\u001b[1;33m(\u001b[0m\u001b[1;34m\"r4\"\u001b[0m\u001b[1;33m)\u001b[0m\u001b[1;33m\u001b[0m\u001b[1;33m\u001b[0m\u001b[0m\n\u001b[0m",
      "\u001b[1;31mValueError\u001b[0m: invalid literal for int() with base 10: 'r4'"
     ]
    }
   ],
   "source": [
    "int(\"r4\")"
   ]
  },
  {
   "cell_type": "code",
   "execution_count": 12,
   "id": "a387506f",
   "metadata": {},
   "outputs": [
    {
     "data": {
      "text/plain": [
       "2.0"
      ]
     },
     "execution_count": 12,
     "metadata": {},
     "output_type": "execute_result"
    }
   ],
   "source": [
    "float(\"2\")"
   ]
  },
  {
   "cell_type": "code",
   "execution_count": 13,
   "id": "098e32ed",
   "metadata": {},
   "outputs": [
    {
     "data": {
      "text/plain": [
       "3.14"
      ]
     },
     "execution_count": 13,
     "metadata": {},
     "output_type": "execute_result"
    }
   ],
   "source": [
    "float(\"3.14\")"
   ]
  },
  {
   "cell_type": "code",
   "execution_count": 14,
   "id": "b463835e",
   "metadata": {},
   "outputs": [
    {
     "data": {
      "text/plain": [
       "3.0"
      ]
     },
     "execution_count": 14,
     "metadata": {},
     "output_type": "execute_result"
    }
   ],
   "source": [
    "float(3)"
   ]
  },
  {
   "cell_type": "code",
   "execution_count": 15,
   "id": "845f121c",
   "metadata": {},
   "outputs": [
    {
     "data": {
      "text/plain": [
       "-4"
      ]
     },
     "execution_count": 15,
     "metadata": {},
     "output_type": "execute_result"
    }
   ],
   "source": [
    "int(\" -4\")"
   ]
  },
  {
   "cell_type": "code",
   "execution_count": 16,
   "id": "02e68b8c",
   "metadata": {},
   "outputs": [],
   "source": [
    "s = \"This is a string\"\n",
    "i = 7"
   ]
  },
  {
   "cell_type": "code",
   "execution_count": 17,
   "id": "f8939eb0",
   "metadata": {},
   "outputs": [
    {
     "ename": "TypeError",
     "evalue": "can only concatenate str (not \"int\") to str",
     "output_type": "error",
     "traceback": [
      "\u001b[1;31m---------------------------------------------------------------------------\u001b[0m",
      "\u001b[1;31mTypeError\u001b[0m                                 Traceback (most recent call last)",
      "\u001b[1;32m~\\AppData\\Local\\Temp\\ipykernel_15012\\1575198095.py\u001b[0m in \u001b[0;36m<module>\u001b[1;34m\u001b[0m\n\u001b[1;32m----> 1\u001b[1;33m \u001b[0ms\u001b[0m \u001b[1;33m+\u001b[0m \u001b[0mi\u001b[0m\u001b[1;33m\u001b[0m\u001b[1;33m\u001b[0m\u001b[0m\n\u001b[0m",
      "\u001b[1;31mTypeError\u001b[0m: can only concatenate str (not \"int\") to str"
     ]
    }
   ],
   "source": [
    "s + i"
   ]
  },
  {
   "cell_type": "code",
   "execution_count": 18,
   "id": "99eb4b01",
   "metadata": {},
   "outputs": [
    {
     "data": {
      "text/plain": [
       "'This is a string7'"
      ]
     },
     "execution_count": 18,
     "metadata": {},
     "output_type": "execute_result"
    }
   ],
   "source": [
    "s + str(i)"
   ]
  },
  {
   "cell_type": "code",
   "execution_count": null,
   "id": "c2ef613d",
   "metadata": {},
   "outputs": [],
   "source": []
  }
 ],
 "metadata": {
  "kernelspec": {
   "display_name": "Python 3 (ipykernel)",
   "language": "python",
   "name": "python3"
  },
  "language_info": {
   "codemirror_mode": {
    "name": "ipython",
    "version": 3
   },
   "file_extension": ".py",
   "mimetype": "text/x-python",
   "name": "python",
   "nbconvert_exporter": "python",
   "pygments_lexer": "ipython3",
   "version": "3.9.13"
  }
 },
 "nbformat": 4,
 "nbformat_minor": 5
}
